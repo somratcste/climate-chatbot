{
 "cells": [
  {
   "cell_type": "code",
   "execution_count": 3,
   "metadata": {},
   "outputs": [],
   "source": [
    "import pandas as pd\n",
    "from time import sleep \n",
    "from random import randint\n",
    "from selenium import webdriver\n",
    "driver = webdriver.Chrome('H:\\Digital_Media\\climate_change\\climate-chatbot\\chromedriver_win32\\chromedriver.exe') "
   ]
  },
  {
   "cell_type": "code",
   "execution_count": 4,
   "metadata": {},
   "outputs": [
    {
     "name": "stdout",
     "output_type": "stream",
     "text": [
      "http://quotes.toscrape.com/js/page/1/\n"
     ]
    }
   ],
   "source": [
    "# Get data from url by class\n",
    "for url in open(\"list_of_urls.txt\").readlines():\n",
    "    driver.get(url)\n",
    "    items = len(driver.find_elements_by_class_name(\"quote\"))\n",
    "    total = []\n",
    "    print(url)\n",
    "    for item in range(items):\n",
    "        quotes = driver.find_elements_by_class_name(\"quote\")\n",
    "        for quote in quotes:\n",
    "            quote_text = quote.find_element_by_class_name('text').text[1:-2]\n",
    "            author = quote.find_element_by_class_name('author').text\n",
    "            new = ((quote_text,author))\n",
    "            total.append(new)\n",
    "    df = pd.DataFrame(total,columns=['quote','author'])\n",
    "    df.to_csv('quoted.csv')\n",
    "    sleep_for = randint(300,2500) / 1000.0\n",
    "    sleep( sleep_for )\n",
    "driver.close()"
   ]
  },
  {
   "cell_type": "code",
   "execution_count": null,
   "metadata": {},
   "outputs": [],
   "source": [
    "for url in open(\"list_of_urls.txt\").readlines():\n",
    "    driver.get(url)\n",
    "    \n",
    "    sleep_for = randint(300,2500) / 1000.0\n",
    "    sleep( sleep_for )\n",
    "driver.close()"
   ]
  },
  {
   "cell_type": "code",
   "execution_count": 12,
   "metadata": {},
   "outputs": [],
   "source": [
    "import json\n",
    "myJson = {\n",
    "    \"question\": \"first question\",\n",
    "    \"author\": \n",
    "    {\n",
    "        \"auto\": \"auto1\",\n",
    "        \"name\": \"nazmul hossain\"\n",
    "    }\n",
    "}\n",
    "s = json.dumps(myJson)\n",
    "with open(\"myJson.json\", \"w\") as f:\n",
    "    f.write(s)"
   ]
  },
  {
   "cell_type": "code",
   "execution_count": null,
   "metadata": {},
   "outputs": [],
   "source": []
  }
 ],
 "metadata": {
  "kernelspec": {
   "display_name": "Python 3",
   "language": "python",
   "name": "python3"
  },
  "language_info": {
   "codemirror_mode": {
    "name": "ipython",
    "version": 3
   },
   "file_extension": ".py",
   "mimetype": "text/x-python",
   "name": "python",
   "nbconvert_exporter": "python",
   "pygments_lexer": "ipython3",
   "version": "3.7.4"
  }
 },
 "nbformat": 4,
 "nbformat_minor": 2
}
