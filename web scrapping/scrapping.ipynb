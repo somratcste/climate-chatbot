{
 "cells": [
  {
   "cell_type": "code",
   "execution_count": 2,
   "metadata": {},
   "outputs": [],
   "source": [
    "import pandas as pd\n",
    "from time import sleep \n",
    "from random import randint\n",
    "from selenium import webdriver\n",
    "# driver = webdriver.Chrome('H:\\Digital_Media\\climate_change\\climate-chatbot\\chromedriver_win32\\chromedriver.exe') "
   ]
  },
  {
   "cell_type": "code",
   "execution_count": null,
   "metadata": {},
   "outputs": [],
   "source": [
    "for url in open(\"list_of_urls.txt\").readlines():\n",
    "    driver.get(url)\n",
    "    linkLists = driver.find_elements_by_class_name(\"summary h3 a\")\n",
    "    for link in linkLists: \n",
    "        print(link.get_attribute('href'))\n",
    "        driver.get(link.get_attribute('href'))\n",
    "        break\n",
    "driver.close()"
   ]
  },
  {
   "cell_type": "code",
   "execution_count": 4,
   "metadata": {},
   "outputs": [
    {
     "name": "stdout",
     "output_type": "stream",
     "text": [
      "Don't forget, there's also second-order effects due to the decrease in Earth's albedo causing decreased reflection.\n",
      "Snowbody\n",
      "2014-04-30 21:44:59Z\n",
      "Would be very interesting if the reduction in the continents surface area could be calculated too\n",
      "Ron Harlev\n",
      "2014-04-30 23:07:21Z\n",
      "@Snowbody: once all the ice has melted, how does differing albedo affect sea-level? Do you mean warmer => more water vapour in the atmosphere => less water in the sea, or something else?\n",
      "user348\n",
      "2014-05-01 08:04:00Z\n",
      "How long does all this take? Transporting incredible amounts of heat energy to the poles and injecting it into the ice, a good insulator, so that it melts must be very, very slow. The Netherlands, London, and all the rest will be long gone for other reasons, I imagine, long before it could be completed.\n",
      "ravenspoint\n",
      "2014-05-01 14:57:37Z\n",
      "@SteveJessop: I think thermal expansion of the oceans would be the largest secondary component. I don't think the water vapour feedback is understood well enough to even put a sign on its effect on sea level.\n",
      "naught101\n",
      "2014-07-02 07:04:13Z\n"
     ]
    }
   ],
   "source": [
    "import re\n",
    "driver = webdriver.Chrome('H:\\Digital_Media\\climate_change\\climate-chatbot\\chromedriver_win32\\chromedriver.exe') \n",
    "for url in open(\"list_of_urls.txt\").readlines():\n",
    "    driver.get(url)\n",
    "    \n",
    "    # Question Header Div\n",
    "    questionHeader = driver.find_element_by_id(\"question-header\")\n",
    "    print(questionHeader.find_element_by_tag_name(\"h1\").text)\n",
    "    # Question Divs\n",
    "    question = driver.find_element_by_class_name(\"question\")\n",
    "    questionId = int(question.get_attribute(\"data-questionid\"))\n",
    "    print(question.find_element_by_class_name(\"post-text\").text)\n",
    "    print(question.find_element_by_xpath(\"//div[@class='user-action-time']/span[@class='relativetime']\").get_attribute(\"title\"))\n",
    "    print(question.find_element_by_xpath(\"//div[@class='user-details']/span[@class='d-none']\").get_attribute(\"innerHTML\"))\n",
    "    print(question.find_element_by_class_name(\"js-vote-count\").get_attribute(\"data-value\"))\n",
    "    # Question Comments Div\n",
    "    comments = question.find_element_by_xpath(\"//div[@class='post-layout--right']/div[@id='comments-%d']\" % questionId)\n",
    "    commentDiv = question.find_element_by_id(\"comments-%d\" % questionId)\n",
    "    ulCommentDiv = commentDiv.find_element_by_class_name(\"comments-list\")\n",
    "    liCommentDiv = ulCommentDiv.find_elements_by_class_name(\"comment\")\n",
    "    for li in liCommentDiv:\n",
    "        print(li.find_element_by_class_name(\"comment-copy\").text)\n",
    "        print(li.find_element_by_class_name(\"comment-user\").text)\n",
    "        print(li.find_element_by_class_name(\"relativetime-clean\").get_attribute(\"title\"))    \n",
    "    \n",
    "    # Answers Div\n",
    "    answersDiv = driver.find_element_by_id(\"answers\")\n",
    "    answers = answersDiv.find_elements_by_class_name(\"answer\")\n",
    "    for answer in answers:\n",
    "        answerId = int(answer.get_attribute(\"data-answerid\"))\n",
    "        print(answer.find_element_by_class_name(\"post-text\").text)\n",
    "        userInfos = answer.find_elements_by_class_name(\"user-info\")\n",
    "        for userInfo in userInfos:\n",
    "            userActionTime = userInfo.find_element_by_class_name(\"user-action-time\")\n",
    "            innerHTML = userActionTime.get_attribute(\"innerHTML\")\n",
    "            pattern = re.compile(r'answered', re.I)\n",
    "            if pattern.search(innerHTML) is not None:\n",
    "                print(userInfo.find_element_by_class_name(\"relativetime\").get_attribute(\"title\"))\n",
    "                print(userInfo.find_element_by_class_name(\"d-none\").get_attribute(\"innerHTML\"))\n",
    "                \n",
    "        # Anser Comments Div\n",
    "        comments = answer.find_element_by_xpath(\"//div[@class='post-layout--right']/div[@id='comments-%d']\" % answerId)\n",
    "        commentDiv = answer.find_element_by_id(\"comments-%d\" % answerId)\n",
    "        ulCommentDiv = commentDiv.find_element_by_class_name(\"comments-list\")\n",
    "        liCommentDiv = ulCommentDiv.find_elements_by_class_name(\"comment\")\n",
    "        for li in liCommentDiv:\n",
    "            print(li.find_element_by_class_name(\"comment-copy\").text)\n",
    "            print(li.find_element_by_class_name(\"comment-user\").text)\n",
    "            print(li.find_element_by_class_name(\"relativetime-clean\").get_attribute(\"title\")) \n",
    "\n",
    "        break\n",
    "    break\n",
    "driver.close()"
   ]
  },
  {
   "cell_type": "code",
   "execution_count": null,
   "metadata": {},
   "outputs": [],
   "source": [
    "for url in open(\"list_of_urls.txt\").readlines():\n",
    "    driver.get(url)\n",
    "    list = driver.find_elements_by_css_selector('h3 a')\n",
    "    for a in list\n",
    "        print(a)\n",
    "        print(a.get_attribute('href'))\n",
    "        break\n",
    "    sleep_for = randint(300,2500) / 1000.0\n",
    "    sleep( sleep_for )\n",
    "driver.close()"
   ]
  },
  {
   "cell_type": "code",
   "execution_count": null,
   "metadata": {},
   "outputs": [],
   "source": [
    "# Create and Import Json \n",
    "import json\n",
    "myJson = {\n",
    "    \"question\": \"first question\",\n",
    "    \"author\": \n",
    "    {\n",
    "        \"auto\": \"auto1\",\n",
    "        \"name\": \"nazmul hossain\"\n",
    "    }\n",
    "}\n",
    "s = json.dumps(myJson)\n",
    "with open(\"myJson.json\", \"w\") as f:\n",
    "    f.write(s)"
   ]
  },
  {
   "cell_type": "code",
   "execution_count": null,
   "metadata": {},
   "outputs": [],
   "source": [
    "# Url traverse by page number \n",
    "pages = 10\n",
    "\n",
    "for page in range(1,pages):\n",
    "# for url in open(\"list_of_urls.txt\").readlines():\n",
    "#     driver.get(url)\n",
    "\n",
    "    url = \"http://quotes.toscrape.com/js/page/\" + str(page) + \"/\"\n",
    "    driver.get(url)\n",
    "    items = len(driver.find_elements_by_class_name(\"quote\"))\n",
    "    total = []\n",
    "    for item in range(items):\n",
    "        quotes = driver.find_elements_by_class_name(\"quote\")\n",
    "        for quote in quotes:\n",
    "            quote_text = quote.find_element_by_class_name('text').text\n",
    "            author = quote.find_element_by_class_name('author').text\n",
    "            new = ((quote_text,author))\n",
    "            total.append(new)\n",
    "    df = pd.DataFrame(total,columns=['quote','author'])\n",
    "    df.to_csv('quoted.csv')\n",
    "    sleep_for = randint(300,2500) / 1000.0\n",
    "    sleep( sleep_for )\n",
    "driver.close()"
   ]
  },
  {
   "cell_type": "code",
   "execution_count": null,
   "metadata": {},
   "outputs": [],
   "source": []
  }
 ],
 "metadata": {
  "kernelspec": {
   "display_name": "Python 3",
   "language": "python",
   "name": "python3"
  },
  "language_info": {
   "codemirror_mode": {
    "name": "ipython",
    "version": 3
   },
   "file_extension": ".py",
   "mimetype": "text/x-python",
   "name": "python",
   "nbconvert_exporter": "python",
   "pygments_lexer": "ipython3",
   "version": "3.7.4"
  }
 },
 "nbformat": 4,
 "nbformat_minor": 2
}
