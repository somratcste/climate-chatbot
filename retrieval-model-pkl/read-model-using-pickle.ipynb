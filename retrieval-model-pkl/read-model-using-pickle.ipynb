{
 "cells": [
  {
   "cell_type": "code",
   "execution_count": 5,
   "metadata": {},
   "outputs": [],
   "source": [
    "# Read it back in\n",
    "import cloudpickle\n",
    "with open('retrieval_model.pkl', mode='rb') as file:\n",
    "    loaded_model = cloudpickle.load(file)"
   ]
  },
  {
   "cell_type": "code",
   "execution_count": null,
   "metadata": {},
   "outputs": [
    {
     "name": "stdout",
     "output_type": "stream",
     "text": [
      "serving at port 8080\n"
     ]
    },
    {
     "name": "stderr",
     "output_type": "stream",
     "text": [
      "127.0.0.1 - - [03/Feb/2020 20:32:05] \"GET / HTTP/1.1\" 200 -\n",
      "127.0.0.1 - - [03/Feb/2020 20:32:05] \"GET /style.css HTTP/1.1\" 200 -\n",
      "127.0.0.1 - - [03/Feb/2020 20:32:05] \"GET /app.js HTTP/1.1\" 200 -\n",
      "127.0.0.1 - - [03/Feb/2020 20:32:05] \"GET /chatbot.jpg HTTP/1.1\" 200 -\n",
      "127.0.0.1 - - [03/Feb/2020 20:32:07] code 404, message File not found\n",
      "127.0.0.1 - - [03/Feb/2020 20:32:07] \"GET /favicon.ico HTTP/1.1\" 404 -\n",
      "127.0.0.1 - - [03/Feb/2020 20:32:11] \"POST / HTTP/1.1\" 200 -\n",
      "127.0.0.1 - - [03/Feb/2020 20:32:17] \"POST / HTTP/1.1\" 200 -\n",
      "127.0.0.1 - - [03/Feb/2020 20:32:20] \"POST / HTTP/1.1\" 200 -\n",
      "127.0.0.1 - - [03/Feb/2020 20:32:35] \"POST / HTTP/1.1\" 200 -\n",
      "127.0.0.1 - - [03/Feb/2020 20:32:44] \"POST / HTTP/1.1\" 200 -\n",
      "127.0.0.1 - - [03/Feb/2020 20:32:51] \"POST / HTTP/1.1\" 200 -\n"
     ]
    }
   ],
   "source": [
    "# server start\n",
    "import http.server\n",
    "import socketserver\n",
    "\n",
    "PORT = 8080\n",
    "DIRECTORY = 'public'\n",
    "\n",
    "class Handler(http.server.SimpleHTTPRequestHandler):\n",
    "    def __init__(self, *args, **kwargs):\n",
    "        super().__init__(*args, directory=DIRECTORY, **kwargs)\n",
    "\n",
    "    def do_POST(self):\n",
    "        self.send_response(200)\n",
    "        content_length = int(self.headers['Content-Length'])\n",
    "        post_body = self.rfile.read(content_length)\n",
    "        self.end_headers()\n",
    "        chatbot_reply = loaded_model(post_body)\n",
    "        self.wfile.write(str.encode(chatbot_reply))\n",
    "\n",
    "with socketserver.TCPServer(('', PORT), Handler) as httpd:\n",
    "    print('serving at port', PORT)\n",
    "    try:\n",
    "        httpd.serve_forever()\n",
    "    except KeyboardInterrupt:\n",
    "        pass\n",
    "    httpd.server_close()"
   ]
  },
  {
   "cell_type": "code",
   "execution_count": null,
   "metadata": {},
   "outputs": [],
   "source": []
  }
 ],
 "metadata": {
  "kernelspec": {
   "display_name": "Python 3",
   "language": "python",
   "name": "python3"
  },
  "language_info": {
   "codemirror_mode": {
    "name": "ipython",
    "version": 3
   },
   "file_extension": ".py",
   "mimetype": "text/x-python",
   "name": "python",
   "nbconvert_exporter": "python",
   "pygments_lexer": "ipython3",
   "version": "3.7.4"
  }
 },
 "nbformat": 4,
 "nbformat_minor": 2
}
