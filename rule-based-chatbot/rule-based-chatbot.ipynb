{
 "cells": [
  {
   "cell_type": "code",
   "execution_count": null,
   "metadata": {},
   "outputs": [],
   "source": [
    "import nltk\n",
    "import numpy as np\n",
    "import random\n",
    "import string # to process standard python strings\n",
    "import os, json\n",
    "import pandas as pd"
   ]
  },
  {
   "cell_type": "code",
   "execution_count": null,
   "metadata": {
    "scrolled": true
   },
   "outputs": [],
   "source": [
    "# Get question and nested answer \n",
    "data = []\n",
    "with open('data/climatology-1.json') as json_file:\n",
    "    data = json.load(json_file)\n",
    "count = 1\n",
    "\n",
    "def traverseAnswerObjects(answersObjects):\n",
    "    print(\"answer: \" + answersObjects[\"text\"])\n",
    "    print(\"\\n\")\n",
    "    if(len(answersObjects[\"answers\"])):\n",
    "        for answerObject in answersObjects[\"answers\"]:\n",
    "            traverseAnswerObjects(answerObject)\n",
    "\n",
    "for questionObject in data:\n",
    "    print(\"Question: \"+ questionObject[\"question\"])\n",
    "    print(\"\\n\")\n",
    "    traverseAnswerObjects(questionObject)\n",
    "\n",
    "    count += 1\n",
    "    if(count == 2):\n",
    "        break"
   ]
  },
  {
   "cell_type": "code",
   "execution_count": null,
   "metadata": {},
   "outputs": [],
   "source": [
    "# Get question and first answer\n",
    "data = []\n",
    "with open('data/climatology-1.json') as json_file:\n",
    "    data = json.load(json_file)\n",
    "columns = ['question', 'answer']\n",
    "questionAndAnswerDf = pd.DataFrame(columns=columns)\n",
    "for index, questionObject in enumerate(data):\n",
    "    questionAndAnswerDf.loc[index] = [questionObject[\"question\"], questionObject[\"text\"]]"
   ]
  },
  {
   "cell_type": "code",
   "execution_count": null,
   "metadata": {},
   "outputs": [],
   "source": [
    "questionAndAnswerDf.head()"
   ]
  },
  {
   "cell_type": "code",
   "execution_count": null,
   "metadata": {},
   "outputs": [],
   "source": []
  }
 ],
 "metadata": {
  "kernelspec": {
   "display_name": "Python 3",
   "language": "python",
   "name": "python3"
  },
  "language_info": {
   "codemirror_mode": {
    "name": "ipython",
    "version": 3
   },
   "file_extension": ".py",
   "mimetype": "text/x-python",
   "name": "python",
   "nbconvert_exporter": "python",
   "pygments_lexer": "ipython3",
   "version": "3.7.4"
  }
 },
 "nbformat": 4,
 "nbformat_minor": 2
}
