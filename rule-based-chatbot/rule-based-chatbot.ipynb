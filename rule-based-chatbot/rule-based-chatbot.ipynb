{
 "cells": [
  {
   "cell_type": "code",
   "execution_count": 1,
   "metadata": {},
   "outputs": [],
   "source": [
    "import nltk\n",
    "import numpy as np\n",
    "import random\n",
    "import string # to process standard python strings\n",
    "import os, json\n",
    "import pandas as pd"
   ]
  },
  {
   "cell_type": "code",
   "execution_count": 5,
   "metadata": {
    "scrolled": true
   },
   "outputs": [
    {
     "name": "stdout",
     "output_type": "stream",
     "text": [
      "Question: Are Ice Ages Affected by the Freezing Out of CO2 in Antarctica?\n",
      "\n",
      "\n",
      "answer: The freezing point of carbon dioxide is -78.5 o o C. Occasionally this low is exceeded in Antarctica, and small quantities of CO2 are frozen out, but are returned soon after to the atmosphere. Is it possible that during an ice age more substantial quantities of CO2 are frozen out, and could it be enough to affect the climate and worsen the ice age? Could this phenomenon also occur in Siberia?\n",
      "\n",
      "\n",
      "answer: Re Occasionally this low is exceeded in Antarctica, and small quantities of CO2 are frozen out, but are returned soon after to the atmosphere. That is incorrect, and it is based on the value of -78.5deg C. The correct value is about -140deg C, and that's for current amount of carbon dioxide in the atmosphere. Carbon dioxide levels are considerably less than current during glaciations (\"ice ages\"), which reduces the temperature even further.\n",
      "\n",
      "\n",
      "answer: As a point of reference, people have been continuously occupying both the South Pole and the Vostok Station for decades, and both sites have regularly seen the temperature drop below -78.5deg C for extended periods of time. Yet neither site has reported any carbon dioxide frost. That temperature (-78.5deg C) is not nearly cold enough to create carbon dioxide frost given earthly concentrations of carbon dioxide in the atmosphere.\n",
      "\n",
      "\n",
      "answer: @MichaelWalsby - At present, zero CO 2 CO precipitates to form frost. A temperature of -100deg C (the current theoretical minimum) is not nearly cold enough. Even a temperature of -120deg C (a very generous estimate of the coldest temperatures during the last glacial maximum) is not nearly cold enough.\n",
      "\n",
      "\n",
      "answer: You are far from the only one to have wondered whether carbon dioxide naturally precipitates during the very long and very cold Antarctic winter based on the widely reported value of -78.5deg C. The conditions under which that widely reported value are technically correct (the conditions under which dry ice is created) are irrelevant with regard to the Earth's climate for the last 500+ million years.\n",
      "\n",
      "\n",
      "answer: Btw., the question contains unproven claims. Though it is interesting and triggered quite interesting answers, it should not be upvoted, IMO. Let's not encourage post factual claims posts even more.\n",
      "\n",
      "\n",
      "answer: The freezing point of carbon dioxide is -78.5C. The temperature at which carbon dioxide sublimates is not a fixed value. It instead is a function of the partial pressure of carbon dioxide. That value of -78.5deg C is the temperature at which CO2 sublimates given a partial CO2 pressure of one atmosphere. The temperature needed to have CO2 sublimate given a partial pressure of 40 pascals is much lower than that. The Clausius-Clayperon relation can be used to estimate the temperature at which a substance will sublimate for a given partial pressure. Using the parameter values for CO2 from James et al., I get a temperature of 131 kelvins (-142deg C) for the sublimation point of CO2 at a partial pressure of 40 pascals or 0.4 millibar. Using a slightly different parameterization, Agee et al. calculate that a temperature of 133 kelvins (-140deg C) is needed to make CO2 sublimate from our atmosphere. Are Ice Ages Affected by the Freezing Out of CO2 in Antarctica? Carbon dioxide levels are very low during glaciations (colloquially, ice ages, but we're in an ice age right now). Using the parameterization from James et al. yields a temperature of 127 K (-146deg C) as the sublimation temperature for a partial pressure of 18 Pa (0.18 millibar), or 180 ppm CO2. The Earth cannot get that cold, so no, ice ages are not affected by the freezing out of CO2 in Antarctica.  References: Agee, Ernest, Andrea Orton, and John Rogers. \"CO2 snow deposition in Antarctica to curtail anthropogenic global warming.\" Journal of Applied Meteorology and Climatology 52.2 (2013): 281-288. James, Philip B., Hugh H. Kieffer, and David A. Paige. \"The seasonal cycle of carbon dioxide on Mars.\" Mars (1992): 934-968.\n",
      "\n",
      "\n",
      "answer: How can we be in an ice age right now when people are always complaining about the heat?\n",
      "\n",
      "\n",
      "answer: @MichaelWalsby - A pair of massive ice sheets currently cover almost all of Antarctica. Another ice sheet currently covers almost all of Greenland. That pretty much covers the technical definition of what qualifies as an \"ice age\". The presence of large ice sheets distinguishes the last ~34 million years, plus two other time periods (the late Cenozoic and the late Orderovician), from the majority of the time since the start of the Cambrian where there were no ice sheets, period.\n",
      "\n",
      "\n",
      "answer: @DavidHammen, please excuse my nitpicking, you are in principle right, we're in the Cenozoic (Quaternary) now. You probably mean the late Paleozoic (Permian) and Ordovician. stratigraphy.org/ICSchart/ChronostratChart2019-05.jpg\n",
      "\n",
      "\n",
      "answer: @ebv - The \"Ordervician\" was a DYAC. It should have been Ordovician, as you noted. My use of \"late Cenozoic\" when I should have written \"late Paleozoic\" -- that's something I can't blame on autocorrect.\n",
      "\n",
      "\n",
      "answer: A number of articles on the internet say that CO2 does freeze in Antarctica at temperatures below -78.5C, but as it sublimates at about the same temperature there is no net build-up. Things may have been different in much colder times.. Buried under water ice in a snowball Earth, when the ice reached a temperature higher than the freezing point of CO2, it would become a gas under pressure and probably find a way out, depending on the thickness of the water ice above.\n",
      "\n",
      "\n",
      "answer: @MichaelWalsby - A number of articles on the internet say the Earth is flat.\n",
      "\n",
      "\n",
      "answer: -98degC is as cold as it can get on Earth, in isolated places, where air and surface radiation are in equlibirum in the polar winter and no exchange happens Scambos et al 2018. Given the low atmopsheric CO2 in cold phases, extremely low precipitation rates and an isolating polar vortex around Antarctica and no isotopic signal in cores it can be doubted that the physical conditions for large scale frozen phases of CO2 were met at any time in the Pleistocene. Here are two papers that deal with modelling global mean temperatures in the Cryogenian: Hoffman et al 2017 and Voight at al 2011. Global cooling is only estimated to a few degC (3 and 4.6). Otoh, others suggests a global mean temperature of -12degC. But that lacks proper citing. Whether such an extreme case as today's Antarctica with altitudes of >4000m (that's closer to space in the cold, dense air than it sounds) and its isolation from the global circulation existed back then, that is unclear. Citing from Hoffman et al: However, an ice-covered planet with Earth-like obliquity and distance (1 astronomical unit) from a Sun-like star, with or without CO2 ice clouds, remains far below the threshold for CO2 ice deposition at any CO2 level relevant to a Cryogenian Snowball Earth [see figure 2b and c in the study by Turbet et al. (70)]. The risk of irreversibility due to CO2-ice deposition is not so easily dismissed for a Siderian (2.4 Ga) Snowball Earth (Fig. 2B), when the Sun was about 10% dimmer than in the Cryogenian. So, not in the Cryogenian glaciation(s), clearly not afterwards, but maybe before, what they call Siderian (may also be known as the Huronian(?) glaciation) may CO2 ice have hypothetically been deposited on earth. The problem with such a CO2 burial is that it sinks gravitationally into the water ice and is thus removed from the circulation, potentially leading to an unescapable snowball state Turbet et al 2017.\n",
      "\n",
      "\n",
      "answer: Your reference refers to present day conditions. My question asks what might be possible in the depths of a hard ice age when conditions were different..\n",
      "\n",
      "\n",
      "answer: During an ice age little CO2 will reach the arctic,it will be absorbed by sea water in all the oceans,This will create a positive feedback,lower CO2 level in the atmosphere will make it even colder so the liquid water will absorb even more CO2. Cold water can hold large amounts of dissolved gasses,When the ice age ends large amounts of CO2 will be released creating a positive feedback loop further increasing the heating. One of the problems with the climate change we see now is that the oceans are getting hotter,This will lower the waters capacity to absorb CO2 from the atmosphere. At some point if the heating goes on the ocean water might start releasing more CO2 than it absorbs.\n",
      "\n",
      "\n",
      "answer: It would be interesting to know how cold the polar regions can get in a very hard ice age. It must be a lot colder than they are now.\n",
      "\n",
      "\n",
      "answer: @MichaelWalsby this i do not know:) maybe somebody else know this.\n",
      "\n",
      "\n",
      "answer: I searched on scholar (I do not have any license) and couldn't find that data neither.\n",
      "\n",
      "\n"
     ]
    }
   ],
   "source": [
    "# Get question and nested answer \n",
    "data = []\n",
    "with open('data/climatology-1.json') as json_file:\n",
    "    data = json.load(json_file)\n",
    "count = 1\n",
    "\n",
    "def traverseAnswerObjects(answersObjects):\n",
    "    print(\"answer: \" + answersObjects[\"text\"])\n",
    "    print(\"\\n\")\n",
    "    if(len(answersObjects[\"answers\"])):\n",
    "        for answerObject in answersObjects[\"answers\"]:\n",
    "            traverseAnswerObjects(answerObject)\n",
    "\n",
    "for questionObject in data:\n",
    "    print(\"Question: \"+ questionObject[\"question\"])\n",
    "    print(\"\\n\")\n",
    "    traverseAnswerObjects(questionObject)\n",
    "\n",
    "    count += 1\n",
    "    if(count == 2):\n",
    "        break"
   ]
  },
  {
   "cell_type": "code",
   "execution_count": null,
   "metadata": {},
   "outputs": [],
   "source": []
  }
 ],
 "metadata": {
  "kernelspec": {
   "display_name": "Python 3",
   "language": "python",
   "name": "python3"
  },
  "language_info": {
   "codemirror_mode": {
    "name": "ipython",
    "version": 3
   },
   "file_extension": ".py",
   "mimetype": "text/x-python",
   "name": "python",
   "nbconvert_exporter": "python",
   "pygments_lexer": "ipython3",
   "version": "3.7.4"
  }
 },
 "nbformat": 4,
 "nbformat_minor": 2
}
