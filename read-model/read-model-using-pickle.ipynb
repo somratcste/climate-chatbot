{
 "cells": [
  {
   "cell_type": "code",
   "execution_count": 4,
   "metadata": {},
   "outputs": [
    {
     "data": {
      "text/plain": [
       "'Captain Planet: What is the \"greenhouse effect\" supposed to be? Is it a scientific thingy that is supposed to adhere to the laws of physics? ...or is it merely a highly touted \"miracle\" of the Global Warming religion?  When you use the word \"Climate\", what do you mean? Is it a completely notional concept (i.e. just'"
      ]
     },
     "execution_count": 4,
     "metadata": {},
     "output_type": "execute_result"
    }
   ],
   "source": [
    "# Read it back in\n",
    "import cloudpickle\n",
    "with open('retrieval_model.pkl', mode='rb') as file:\n",
    "    loaded_model = cloudpickle.load(file)\n",
    "loaded_model(\"what is climate change\")"
   ]
  },
  {
   "cell_type": "code",
   "execution_count": null,
   "metadata": {},
   "outputs": [],
   "source": []
  }
 ],
 "metadata": {
  "kernelspec": {
   "display_name": "Python 3",
   "language": "python",
   "name": "python3"
  },
  "language_info": {
   "codemirror_mode": {
    "name": "ipython",
    "version": 3
   },
   "file_extension": ".py",
   "mimetype": "text/x-python",
   "name": "python",
   "nbconvert_exporter": "python",
   "pygments_lexer": "ipython3",
   "version": "3.7.4"
  }
 },
 "nbformat": 4,
 "nbformat_minor": 2
}
